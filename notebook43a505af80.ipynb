{
 "cells": [
  {
   "cell_type": "code",
   "execution_count": 1,
   "id": "6faed9ed",
   "metadata": {
    "_cell_guid": "b1076dfc-b9ad-4769-8c92-a6c4dae69d19",
    "_uuid": "8f2839f25d086af736a60e9eeb907d3b93b6e0e5",
    "execution": {
     "iopub.execute_input": "2022-04-12T04:15:54.274712Z",
     "iopub.status.busy": "2022-04-12T04:15:54.272932Z",
     "iopub.status.idle": "2022-04-12T04:15:54.294017Z",
     "shell.execute_reply": "2022-04-12T04:15:54.294636Z",
     "shell.execute_reply.started": "2022-04-05T18:01:37.55966Z"
    },
    "papermill": {
     "duration": 0.045696,
     "end_time": "2022-04-12T04:15:54.294952",
     "exception": false,
     "start_time": "2022-04-12T04:15:54.249256",
     "status": "completed"
    },
    "tags": []
   },
   "outputs": [
    {
     "name": "stdout",
     "output_type": "stream",
     "text": [
      "/kaggle/input/fashionmnist/t10k-labels-idx1-ubyte\n",
      "/kaggle/input/fashionmnist/t10k-images-idx3-ubyte\n",
      "/kaggle/input/fashionmnist/fashion-mnist_test.csv\n",
      "/kaggle/input/fashionmnist/fashion-mnist_train.csv\n",
      "/kaggle/input/fashionmnist/train-labels-idx1-ubyte\n",
      "/kaggle/input/fashionmnist/train-images-idx3-ubyte\n"
     ]
    }
   ],
   "source": [
    "# This Python 3 environment comes with many helpful analytics libraries installed\n",
    "# It is defined by the kaggle/python Docker image: https://github.com/kaggle/docker-python\n",
    "# For example, here's several helpful packages to load\n",
    "\n",
    "import numpy as np # linear algebra\n",
    "import pandas as pd # data processing, CSV file I/O (e.g. pd.read_csv)\n",
    "\n",
    "# Input data files are available in the read-only \"../input/\" directory\n",
    "# For example, running this (by clicking run or pressing Shift+Enter) will list all files under the input directory\n",
    "\n",
    "import os\n",
    "for dirname, _, filenames in os.walk('/kaggle/input'):\n",
    "    for filename in filenames:\n",
    "        print(os.path.join(dirname, filename))\n",
    "\n",
    "# You can write up to 20GB to the current directory (/kaggle/working/) that gets preserved as output when you create a version using \"Save & Run All\" \n",
    "# You can also write temporary files to /kaggle/temp/, but they won't be saved outside of the current session"
   ]
  },
  {
   "cell_type": "code",
   "execution_count": 2,
   "id": "b1ea670d",
   "metadata": {
    "execution": {
     "iopub.execute_input": "2022-04-12T04:15:54.335643Z",
     "iopub.status.busy": "2022-04-12T04:15:54.335017Z",
     "iopub.status.idle": "2022-04-12T04:16:00.005957Z",
     "shell.execute_reply": "2022-04-12T04:16:00.005396Z",
     "shell.execute_reply.started": "2022-04-05T18:01:37.618507Z"
    },
    "papermill": {
     "duration": 5.692002,
     "end_time": "2022-04-12T04:16:00.006109",
     "exception": false,
     "start_time": "2022-04-12T04:15:54.314107",
     "status": "completed"
    },
    "tags": []
   },
   "outputs": [],
   "source": [
    "from keras.models import Sequential\n",
    "from keras.layers import Dense,Input,Convolution2D,MaxPooling2D,Flatten,Dropout\n",
    "from keras.utils import np_utils\n",
    "from pathlib import Path\n",
    "import tensorflow"
   ]
  },
  {
   "cell_type": "code",
   "execution_count": 3,
   "id": "45385cc8",
   "metadata": {
    "execution": {
     "iopub.execute_input": "2022-04-12T04:16:00.047883Z",
     "iopub.status.busy": "2022-04-12T04:16:00.046804Z",
     "iopub.status.idle": "2022-04-12T04:16:06.558282Z",
     "shell.execute_reply": "2022-04-12T04:16:06.557698Z",
     "shell.execute_reply.started": "2022-04-05T18:01:43.141241Z"
    },
    "papermill": {
     "duration": 6.53332,
     "end_time": "2022-04-12T04:16:06.558422",
     "exception": false,
     "start_time": "2022-04-12T04:16:00.025102",
     "status": "completed"
    },
    "tags": []
   },
   "outputs": [],
   "source": [
    "path=\"/kaggle/input/fashionmnist/\"\n",
    "x=pd.read_csv(path+\"fashion-mnist_train.csv\")\n",
    "x=np.array(x)\n",
    "Xtrain=x[:,1:]\n",
    "Xtrain=Xtrain/255\n",
    "Ytrain=x[:,0]"
   ]
  },
  {
   "cell_type": "code",
   "execution_count": 4,
   "id": "2b85cb36",
   "metadata": {
    "execution": {
     "iopub.execute_input": "2022-04-12T04:16:06.599971Z",
     "iopub.status.busy": "2022-04-12T04:16:06.599126Z",
     "iopub.status.idle": "2022-04-12T04:16:06.609896Z",
     "shell.execute_reply": "2022-04-12T04:16:06.610349Z",
     "shell.execute_reply.started": "2022-04-05T18:01:49.678374Z"
    },
    "papermill": {
     "duration": 0.033642,
     "end_time": "2022-04-12T04:16:06.610512",
     "exception": false,
     "start_time": "2022-04-12T04:16:06.576870",
     "status": "completed"
    },
    "tags": []
   },
   "outputs": [
    {
     "data": {
      "text/plain": [
       "(array([0, 1, 2, 3, 4, 5, 6, 7, 8, 9]),\n",
       " array([6000, 6000, 6000, 6000, 6000, 6000, 6000, 6000, 6000, 6000]))"
      ]
     },
     "execution_count": 4,
     "metadata": {},
     "output_type": "execute_result"
    }
   ],
   "source": [
    "np.unique(Ytrain,return_counts=True)"
   ]
  },
  {
   "cell_type": "code",
   "execution_count": 5,
   "id": "ed8dd94c",
   "metadata": {
    "execution": {
     "iopub.execute_input": "2022-04-12T04:16:06.654006Z",
     "iopub.status.busy": "2022-04-12T04:16:06.653100Z",
     "iopub.status.idle": "2022-04-12T04:16:06.656295Z",
     "shell.execute_reply": "2022-04-12T04:16:06.656996Z",
     "shell.execute_reply.started": "2022-04-05T18:01:49.692142Z"
    },
    "papermill": {
     "duration": 0.027988,
     "end_time": "2022-04-12T04:16:06.657212",
     "exception": false,
     "start_time": "2022-04-12T04:16:06.629224",
     "status": "completed"
    },
    "tags": []
   },
   "outputs": [
    {
     "name": "stdout",
     "output_type": "stream",
     "text": [
      "(60000, 784) (60000,)\n",
      "[2 9 6 ... 8 8 7]\n"
     ]
    }
   ],
   "source": [
    "print(Xtrain.shape,Ytrain.shape)\n",
    "print(Ytrain)"
   ]
  },
  {
   "cell_type": "code",
   "execution_count": 6,
   "id": "8ed48c49",
   "metadata": {
    "execution": {
     "iopub.execute_input": "2022-04-12T04:16:06.701431Z",
     "iopub.status.busy": "2022-04-12T04:16:06.700442Z",
     "iopub.status.idle": "2022-04-12T04:16:06.704768Z",
     "shell.execute_reply": "2022-04-12T04:16:06.704251Z",
     "shell.execute_reply.started": "2022-04-05T18:01:49.712155Z"
    },
    "papermill": {
     "duration": 0.027504,
     "end_time": "2022-04-12T04:16:06.704938",
     "exception": false,
     "start_time": "2022-04-12T04:16:06.677434",
     "status": "completed"
    },
    "tags": []
   },
   "outputs": [],
   "source": [
    "Xtrain=Xtrain.reshape((60000,28,28,1))\n",
    "Ytrain=np_utils.to_categorical(Ytrain)"
   ]
  },
  {
   "cell_type": "code",
   "execution_count": 7,
   "id": "f2479549",
   "metadata": {
    "execution": {
     "iopub.execute_input": "2022-04-12T04:16:06.748053Z",
     "iopub.status.busy": "2022-04-12T04:16:06.747343Z",
     "iopub.status.idle": "2022-04-12T04:16:06.750236Z",
     "shell.execute_reply": "2022-04-12T04:16:06.750985Z",
     "shell.execute_reply.started": "2022-04-05T18:01:49.722392Z"
    },
    "papermill": {
     "duration": 0.027267,
     "end_time": "2022-04-12T04:16:06.751225",
     "exception": false,
     "start_time": "2022-04-12T04:16:06.723958",
     "status": "completed"
    },
    "tags": []
   },
   "outputs": [
    {
     "name": "stdout",
     "output_type": "stream",
     "text": [
      "(60000, 28, 28, 1) (60000, 10)\n"
     ]
    }
   ],
   "source": [
    "print(Xtrain.shape,Ytrain.shape)"
   ]
  },
  {
   "cell_type": "code",
   "execution_count": 8,
   "id": "c9899789",
   "metadata": {
    "execution": {
     "iopub.execute_input": "2022-04-12T04:16:06.797919Z",
     "iopub.status.busy": "2022-04-12T04:16:06.797252Z",
     "iopub.status.idle": "2022-04-12T04:16:06.800232Z",
     "shell.execute_reply": "2022-04-12T04:16:06.799669Z",
     "shell.execute_reply.started": "2022-04-05T18:01:49.731477Z"
    },
    "papermill": {
     "duration": 0.026849,
     "end_time": "2022-04-12T04:16:06.800382",
     "exception": false,
     "start_time": "2022-04-12T04:16:06.773533",
     "status": "completed"
    },
    "tags": []
   },
   "outputs": [],
   "source": [
    "import matplotlib.pyplot as plt"
   ]
  },
  {
   "cell_type": "code",
   "execution_count": 9,
   "id": "022d53c5",
   "metadata": {
    "execution": {
     "iopub.execute_input": "2022-04-12T04:16:06.848199Z",
     "iopub.status.busy": "2022-04-12T04:16:06.844382Z",
     "iopub.status.idle": "2022-04-12T04:16:07.043642Z",
     "shell.execute_reply": "2022-04-12T04:16:07.044165Z",
     "shell.execute_reply.started": "2022-04-05T18:01:49.740777Z"
    },
    "papermill": {
     "duration": 0.22439,
     "end_time": "2022-04-12T04:16:07.044335",
     "exception": false,
     "start_time": "2022-04-12T04:16:06.819945",
     "status": "completed"
    },
    "tags": []
   },
   "outputs": [
    {
     "data": {
      "image/png": "[encoded data removed]",
      "text/plain": [
       "<Figure size 432x288 with 1 Axes>"
      ]
     },
     "metadata": {
      "needs_background": "light"
     },
     "output_type": "display_data"
    }
   ],
   "source": [
    "plt.imshow(Xtrain[0],cmap=\"gray\")\n",
    "plt.show()"
   ]
  },
  {
   "cell_type": "code",
   "execution_count": 10,
   "id": "884d6c72",
   "metadata": {
    "execution": {
     "iopub.execute_input": "2022-04-12T04:16:07.093574Z",
     "iopub.status.busy": "2022-04-12T04:16:07.092621Z",
     "iopub.status.idle": "2022-04-12T04:16:07.238477Z",
     "shell.execute_reply": "2022-04-12T04:16:07.239202Z",
     "shell.execute_reply.started": "2022-04-05T18:01:49.948022Z"
    },
    "papermill": {
     "duration": 0.17499,
     "end_time": "2022-04-12T04:16:07.239425",
     "exception": false,
     "start_time": "2022-04-12T04:16:07.064435",
     "status": "completed"
    },
    "tags": []
   },
   "outputs": [
    {
     "name": "stdout",
     "output_type": "stream",
     "text": [
      "Model: \"sequential\"\n",
      "_________________________________________________________________\n",
      "Layer (type)                 Output Shape              Param #   \n",
      "=================================================================\n",
      "conv2d (Conv2D)              (None, 26, 26, 32)        320       \n",
      "_________________________________________________________________\n",
      "conv2d_1 (Conv2D)            (None, 24, 24, 64)        18496     \n",
      "_________________________________________________________________\n",
      "dropout (Dropout)            (None, 24, 24, 64)        0         \n",
      "_________________________________________________________________\n",
      "max_pooling2d (MaxPooling2D) (None, 12, 12, 64)        0         \n",
      "_________________________________________________________________\n",
      "conv2d_2 (Conv2D)            (None, 10, 10, 32)        18464     \n",
      "_________________________________________________________________\n",
      "conv2d_3 (Conv2D)            (None, 8, 8, 8)           2312      \n",
      "_________________________________________________________________\n",
      "flatten (Flatten)            (None, 512)               0         \n",
      "_________________________________________________________________\n",
      "dense (Dense)                (None, 10)                5130      \n",
      "=================================================================\n",
      "Total params: 44,722\n",
      "Trainable params: 44,722\n",
      "Non-trainable params: 0\n",
      "_________________________________________________________________\n"
     ]
    },
    {
     "name": "stderr",
     "output_type": "stream",
     "text": [
      "2022-04-12 04:16:07.123154: I tensorflow/core/common_runtime/process_util.cc:146] Creating new thread pool with default inter op setting: 2. Tune using inter_op_parallelism_threads for best performance.\n"
     ]
    }
   ],
   "source": [
    "##CNN model\n",
    "Model=Sequential()\n",
    "Model.add(Convolution2D(32,(3,3),activation='relu',input_shape=(28,28,1)))\n",
    "Model.add(Convolution2D(64,(3,3),activation='relu',input_shape=(28,28,1)))\n",
    "Model.add(Dropout(0.25))\n",
    "Model.add(MaxPooling2D(2,2))\n",
    "Model.add(Convolution2D(32,(3,3),activation='relu'))\n",
    "Model.add(Convolution2D(8,(3,3),activation='relu'))\n",
    "Model.add(Flatten())\n",
    "Model.add(Dense(10,activation='softmax'))\n",
    "Model.summary()"
   ]
  },
  {
   "cell_type": "code",
   "execution_count": 11,
   "id": "b8223de8",
   "metadata": {
    "execution": {
     "iopub.execute_input": "2022-04-12T04:16:07.292565Z",
     "iopub.status.busy": "2022-04-12T04:16:07.291543Z",
     "iopub.status.idle": "2022-04-12T04:16:07.298472Z",
     "shell.execute_reply": "2022-04-12T04:16:07.297943Z",
     "shell.execute_reply.started": "2022-04-05T18:01:50.098452Z"
    },
    "papermill": {
     "duration": 0.037469,
     "end_time": "2022-04-12T04:16:07.298608",
     "exception": false,
     "start_time": "2022-04-12T04:16:07.261139",
     "status": "completed"
    },
    "tags": []
   },
   "outputs": [],
   "source": [
    "Model.compile(loss=\"categorical_crossentropy\",optimizer=\"adam\",metrics=[\"accuracy\"])"
   ]
  },
  {
   "cell_type": "code",
   "execution_count": 12,
   "id": "02e3a863",
   "metadata": {
    "execution": {
     "iopub.execute_input": "2022-04-12T04:16:07.346251Z",
     "iopub.status.busy": "2022-04-12T04:16:07.345382Z",
     "iopub.status.idle": "2022-04-12T04:33:02.181780Z",
     "shell.execute_reply": "2022-04-12T04:33:02.181130Z",
     "shell.execute_reply.started": "2022-04-05T18:01:50.112919Z"
    },
    "papermill": {
     "duration": 1014.862305,
     "end_time": "2022-04-12T04:33:02.181984",
     "exception": false,
     "start_time": "2022-04-12T04:16:07.319679",
     "status": "completed"
    },
    "tags": []
   },
   "outputs": [
    {
     "name": "stderr",
     "output_type": "stream",
     "text": [
      "2022-04-12 04:16:07.639006: I tensorflow/compiler/mlir/mlir_graph_optimization_pass.cc:185] None of the MLIR Optimization Passes are enabled (registered 2)\n"
     ]
    },
    {
     "name": "stdout",
     "output_type": "stream",
     "text": [
      "Epoch 1/20\n",
      "188/188 [==============================] - 52s 271ms/step - loss: 0.7528 - accuracy: 0.7297 - val_loss: 0.4946 - val_accuracy: 0.8300\n",
      "Epoch 2/20\n",
      "188/188 [==============================] - 51s 269ms/step - loss: 0.4220 - accuracy: 0.8490 - val_loss: 0.4000 - val_accuracy: 0.8649\n",
      "Epoch 3/20\n",
      "188/188 [==============================] - 51s 271ms/step - loss: 0.3621 - accuracy: 0.8706 - val_loss: 0.3628 - val_accuracy: 0.8769\n",
      "Epoch 4/20\n",
      "188/188 [==============================] - 50s 264ms/step - loss: 0.3299 - accuracy: 0.8829 - val_loss: 0.3431 - val_accuracy: 0.8860\n",
      "Epoch 5/20\n",
      "188/188 [==============================] - 51s 270ms/step - loss: 0.3100 - accuracy: 0.8898 - val_loss: 0.3244 - val_accuracy: 0.8884\n",
      "Epoch 6/20\n",
      "188/188 [==============================] - 50s 267ms/step - loss: 0.2913 - accuracy: 0.8946 - val_loss: 0.3170 - val_accuracy: 0.8936\n",
      "Epoch 7/20\n",
      "188/188 [==============================] - 51s 271ms/step - loss: 0.2809 - accuracy: 0.8988 - val_loss: 0.2996 - val_accuracy: 0.8980\n",
      "Epoch 8/20\n",
      "188/188 [==============================] - 50s 267ms/step - loss: 0.2679 - accuracy: 0.9038 - val_loss: 0.2849 - val_accuracy: 0.9058\n",
      "Epoch 9/20\n",
      "188/188 [==============================] - 51s 272ms/step - loss: 0.2586 - accuracy: 0.9078 - val_loss: 0.3044 - val_accuracy: 0.8938\n",
      "Epoch 10/20\n",
      "188/188 [==============================] - 51s 271ms/step - loss: 0.2459 - accuracy: 0.9126 - val_loss: 0.2674 - val_accuracy: 0.9072\n",
      "Epoch 11/20\n",
      "188/188 [==============================] - 50s 266ms/step - loss: 0.2381 - accuracy: 0.9147 - val_loss: 0.2798 - val_accuracy: 0.9001\n",
      "Epoch 12/20\n",
      "188/188 [==============================] - 51s 272ms/step - loss: 0.2318 - accuracy: 0.9174 - val_loss: 0.2644 - val_accuracy: 0.9067\n",
      "Epoch 13/20\n",
      "188/188 [==============================] - 50s 266ms/step - loss: 0.2263 - accuracy: 0.9180 - val_loss: 0.2789 - val_accuracy: 0.9016\n",
      "Epoch 14/20\n",
      "188/188 [==============================] - 51s 272ms/step - loss: 0.2186 - accuracy: 0.9204 - val_loss: 0.2485 - val_accuracy: 0.9145\n",
      "Epoch 15/20\n",
      "188/188 [==============================] - 50s 267ms/step - loss: 0.2189 - accuracy: 0.9206 - val_loss: 0.2543 - val_accuracy: 0.9128\n",
      "Epoch 16/20\n",
      "188/188 [==============================] - 51s 274ms/step - loss: 0.2089 - accuracy: 0.9255 - val_loss: 0.2451 - val_accuracy: 0.9147\n",
      "Epoch 17/20\n",
      "188/188 [==============================] - 50s 267ms/step - loss: 0.2056 - accuracy: 0.9249 - val_loss: 0.2564 - val_accuracy: 0.9097\n",
      "Epoch 18/20\n",
      "188/188 [==============================] - 51s 274ms/step - loss: 0.2012 - accuracy: 0.9279 - val_loss: 0.2486 - val_accuracy: 0.9134\n",
      "Epoch 19/20\n",
      "188/188 [==============================] - 50s 268ms/step - loss: 0.1977 - accuracy: 0.9298 - val_loss: 0.2498 - val_accuracy: 0.9133\n",
      "Epoch 20/20\n",
      "188/188 [==============================] - 52s 274ms/step - loss: 0.1917 - accuracy: 0.9308 - val_loss: 0.2462 - val_accuracy: 0.9124\n"
     ]
    }
   ],
   "source": [
    "hist=Model.fit(Xtrain,Ytrain,epochs=20,shuffle=True,batch_size=256,validation_split=0.20)"
   ]
  },
  {
   "cell_type": "code",
   "execution_count": 13,
   "id": "662b3078",
   "metadata": {
    "execution": {
     "iopub.execute_input": "2022-04-12T04:33:04.980916Z",
     "iopub.status.busy": "2022-04-12T04:33:04.980288Z",
     "iopub.status.idle": "2022-04-12T04:33:04.983893Z",
     "shell.execute_reply": "2022-04-12T04:33:04.983253Z",
     "shell.execute_reply.started": "2022-04-05T18:18:30.832395Z"
    },
    "papermill": {
     "duration": 1.402605,
     "end_time": "2022-04-12T04:33:04.984033",
     "exception": false,
     "start_time": "2022-04-12T04:33:03.581428",
     "status": "completed"
    },
    "tags": []
   },
   "outputs": [
    {
     "name": "stdout",
     "output_type": "stream",
     "text": [
      "<keras.callbacks.History object at 0x7f38f62fdc90>\n"
     ]
    }
   ],
   "source": [
    "print(hist)"
   ]
  },
  {
   "cell_type": "code",
   "execution_count": 14,
   "id": "5a3fd8af",
   "metadata": {
    "execution": {
     "iopub.execute_input": "2022-04-12T04:33:07.777088Z",
     "iopub.status.busy": "2022-04-12T04:33:07.776441Z",
     "iopub.status.idle": "2022-04-12T04:33:08.811201Z",
     "shell.execute_reply": "2022-04-12T04:33:08.810558Z",
     "shell.execute_reply.started": "2022-04-05T18:23:50.416983Z"
    },
    "papermill": {
     "duration": 2.443598,
     "end_time": "2022-04-12T04:33:08.811338",
     "exception": false,
     "start_time": "2022-04-12T04:33:06.367740",
     "status": "completed"
    },
    "tags": []
   },
   "outputs": [],
   "source": [
    "path=\"/kaggle/input/fashionmnist/\"\n",
    "x=pd.read_csv(path+\"fashion-mnist_test.csv\")\n",
    "x=np.array(x)\n",
    "Xtest=x[:,1:]\n",
    "Xtest=Xtrain/255\n",
    "Ytest=x[:,0]"
   ]
  },
  {
   "cell_type": "code",
   "execution_count": 15,
   "id": "ecb0e804",
   "metadata": {
    "execution": {
     "iopub.execute_input": "2022-04-12T04:33:11.640794Z",
     "iopub.status.busy": "2022-04-12T04:33:11.637283Z",
     "iopub.status.idle": "2022-04-12T04:33:11.777717Z",
     "shell.execute_reply": "2022-04-12T04:33:11.777201Z",
     "shell.execute_reply.started": "2022-04-05T18:27:09.866329Z"
    },
    "papermill": {
     "duration": 1.575469,
     "end_time": "2022-04-12T04:33:11.777874",
     "exception": false,
     "start_time": "2022-04-12T04:33:10.202405",
     "status": "completed"
    },
    "tags": []
   },
   "outputs": [
    {
     "data": {
      "image/png": "[encoded data removed]",
      "text/plain": [
       "<Figure size 432x288 with 1 Axes>"
      ]
     },
     "metadata": {
      "needs_background": "light"
     },
     "output_type": "display_data"
    }
   ],
   "source": [
    "Xtest=Xtest.reshape((60000,28,28,1))\n",
    "plt.imshow(Xtest[0],cmap=\"gray\")\n",
    "plt.show()"
   ]
  },
  {
   "cell_type": "code",
   "execution_count": 16,
   "id": "3b134500",
   "metadata": {
    "execution": {
     "iopub.execute_input": "2022-04-12T04:33:14.594271Z",
     "iopub.status.busy": "2022-04-12T04:33:14.583770Z",
     "iopub.status.idle": "2022-04-12T04:33:14.821251Z",
     "shell.execute_reply": "2022-04-12T04:33:14.820718Z",
     "shell.execute_reply.started": "2022-04-05T18:34:39.527579Z"
    },
    "papermill": {
     "duration": 1.640952,
     "end_time": "2022-04-12T04:33:14.821406",
     "exception": false,
     "start_time": "2022-04-12T04:33:13.180454",
     "status": "completed"
    },
    "tags": []
   },
   "outputs": [
    {
     "data": {
      "text/plain": [
       "<matplotlib.legend.Legend at 0x7f38aef474d0>"
      ]
     },
     "execution_count": 16,
     "metadata": {},
     "output_type": "execute_result"
    },
    {
     "data": {
      "image/png": "[encoded data removed]",
      "text/plain": [
       "<Figure size 432x288 with 1 Axes>"
      ]
     },
     "metadata": {
      "needs_background": "light"
     },
     "output_type": "display_data"
    }
   ],
   "source": [
    "plt.plot(hist.history['accuracy'])\n",
    "plt.plot(hist.history['val_accuracy'])\n",
    "plt.legend(['accuracy','validation accuracy'])"
   ]
  },
  {
   "cell_type": "code",
   "execution_count": null,
   "id": "31199413",
   "metadata": {
    "papermill": {
     "duration": 1.394011,
     "end_time": "2022-04-12T04:33:17.671122",
     "exception": false,
     "start_time": "2022-04-12T04:33:16.277111",
     "status": "completed"
    },
    "tags": []
   },
   "outputs": [],
   "source": []
  }
 ],
 "metadata": {
  "kernelspec": {
   "display_name": "Python 3",
   "language": "python",
   "name": "python3"
  },
  "language_info": {
   "codemirror_mode": {
    "name": "ipython",
    "version": 3
   },
   "file_extension": ".py",
   "mimetype": "text/x-python",
   "name": "python",
   "nbconvert_exporter": "python",
   "pygments_lexer": "ipython3",
   "version": "3.7.12"
  },
  "papermill": {
   "default_parameters": {},
   "duration": 1058.13994,
   "end_time": "2022-04-12T04:33:22.572767",
   "environment_variables": {},
   "exception": null,
   "input_path": "__notebook__.ipynb",
   "output_path": "__notebook__.ipynb",
   "parameters": {},
   "start_time": "2022-04-12T04:15:44.432827",
   "version": "2.3.3"
  }
 },
 "nbformat": 4,
 "nbformat_minor": 5
}
